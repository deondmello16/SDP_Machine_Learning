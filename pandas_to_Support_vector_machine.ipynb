{
  "nbformat": 4,
  "nbformat_minor": 0,
  "metadata": {
    "colab": {
      "name": "pandas_to_Support_vector_machine.ipynb",
      "provenance": [],
      "collapsed_sections": [],
      "include_colab_link": true
    },
    "kernelspec": {
      "display_name": "Python 3",
      "name": "python3"
    }
  },
  "cells": [
    {
      "cell_type": "markdown",
      "metadata": {
        "id": "view-in-github",
        "colab_type": "text"
      },
      "source": [
        "<a href=\"https://colab.research.google.com/github/deondmello16/SDP_Machine_Learning/blob/main/pandas_to_Support_vector_machine.ipynb\" target=\"_parent\"><img src=\"https://colab.research.google.com/assets/colab-badge.svg\" alt=\"Open In Colab\"/></a>"
      ]
    },
    {
      "cell_type": "code",
      "metadata": {
        "id": "cOlWa8B6OG8X"
      },
      "source": [
        " import pandas as pd"
      ],
      "execution_count": 89,
      "outputs": []
    },
    {
      "cell_type": "code",
      "metadata": {
        "id": "KIr3yfAvOHBb",
        "colab": {
          "base_uri": "https://localhost:8080/"
        },
        "outputId": "0a052f07-bd91-4a47-aeb4-dbbea47efc69"
      },
      "source": [
        "s = pd.Series()\n",
        "print(s)"
      ],
      "execution_count": 90,
      "outputs": [
        {
          "output_type": "stream",
          "name": "stdout",
          "text": [
            "Series([], dtype: float64)\n"
          ]
        },
        {
          "output_type": "stream",
          "name": "stderr",
          "text": [
            "/usr/local/lib/python3.7/dist-packages/ipykernel_launcher.py:1: DeprecationWarning: The default dtype for empty Series will be 'object' instead of 'float64' in a future version. Specify a dtype explicitly to silence this warning.\n",
            "  \"\"\"Entry point for launching an IPython kernel.\n"
          ]
        }
      ]
    },
    {
      "cell_type": "code",
      "metadata": {
        "id": "UvIujl0zOHCx",
        "colab": {
          "base_uri": "https://localhost:8080/"
        },
        "outputId": "db8683a9-5af9-4440-e2df-c4127b2d0770"
      },
      "source": [
        "import pandas as pd\n",
        "import numpy as np\n",
        "data1 = np.array([10,20,30,40,50])\n",
        "data2=np.array(['a','b','c','d','e'])\n",
        "print(data1) "
      ],
      "execution_count": 91,
      "outputs": [
        {
          "output_type": "stream",
          "name": "stdout",
          "text": [
            "[10 20 30 40 50]\n"
          ]
        }
      ]
    },
    {
      "cell_type": "code",
      "metadata": {
        "id": "jpqQJuU7OHQ0",
        "colab": {
          "base_uri": "https://localhost:8080/"
        },
        "outputId": "32bca679-ba55-410d-99bd-53c23d5e0e6d"
      },
      "source": [
        "s = pd.Series([10.0,20.5,30,40,50,60])\n",
        "print(s)"
      ],
      "execution_count": 92,
      "outputs": [
        {
          "output_type": "stream",
          "name": "stdout",
          "text": [
            "0    10.0\n",
            "1    20.5\n",
            "2    30.0\n",
            "3    40.0\n",
            "4    50.0\n",
            "5    60.0\n",
            "dtype: float64\n"
          ]
        }
      ]
    },
    {
      "cell_type": "code",
      "metadata": {
        "id": "6hDjF2XnOHUB",
        "colab": {
          "base_uri": "https://localhost:8080/"
        },
        "outputId": "82831eb3-4f37-4c98-89df-b186481c3497"
      },
      "source": [
        "s1 = pd.Series(data1,index=['a','b','c','d','e'])  # pd.Series([10,20,30,40,50])\n",
        "s2=pd.Series(data2,index=['a','b','c','d','e'])\n",
        "print(s1)\n",
        "print('=================')\n",
        "print(s2)"
      ],
      "execution_count": 93,
      "outputs": [
        {
          "output_type": "stream",
          "name": "stdout",
          "text": [
            "a    10\n",
            "b    20\n",
            "c    30\n",
            "d    40\n",
            "e    50\n",
            "dtype: int64\n",
            "=================\n",
            "a    a\n",
            "b    b\n",
            "c    c\n",
            "d    d\n",
            "e    e\n",
            "dtype: object\n"
          ]
        }
      ]
    },
    {
      "cell_type": "code",
      "metadata": {
        "id": "Vw3dKPaTOHXT",
        "colab": {
          "base_uri": "https://localhost:8080/"
        },
        "outputId": "85da2cb3-4b99-4e1c-cb40-1bd325a2dea3"
      },
      "source": [
        "data = {'a' : 0, 'b' : 1, 'c' : 2,'d':3}\n",
        "s = pd.Series(data)\n",
        "s"
      ],
      "execution_count": 94,
      "outputs": [
        {
          "output_type": "execute_result",
          "data": {
            "text/plain": [
              "a    0\n",
              "b    1\n",
              "c    2\n",
              "d    3\n",
              "dtype: int64"
            ]
          },
          "metadata": {},
          "execution_count": 94
        }
      ]
    },
    {
      "cell_type": "code",
      "metadata": {
        "id": "45lNt65QOHaJ",
        "colab": {
          "base_uri": "https://localhost:8080/"
        },
        "outputId": "7542e5f4-405b-4741-db2e-1c8bcd981450"
      },
      "source": [
        "l=[10,20,30.5,40,'hello']\n",
        "print(l)\n",
        "a=np.array([10,20,30,40,50.5])\n",
        "print(a)\n",
        "d=pd.Series([10,20,30,40,50])\n",
        "print(d)\n",
        "data = [10,20,30,40,50]\n",
        "df = pd.DataFrame(data)\n",
        "print(df)"
      ],
      "execution_count": 95,
      "outputs": [
        {
          "output_type": "stream",
          "name": "stdout",
          "text": [
            "[10, 20, 30.5, 40, 'hello']\n",
            "[10.  20.  30.  40.  50.5]\n",
            "0    10\n",
            "1    20\n",
            "2    30\n",
            "3    40\n",
            "4    50\n",
            "dtype: int64\n",
            "    0\n",
            "0  10\n",
            "1  20\n",
            "2  30\n",
            "3  40\n",
            "4  50\n"
          ]
        }
      ]
    },
    {
      "cell_type": "code",
      "metadata": {
        "id": "YBgssZtSOHdJ",
        "colab": {
          "base_uri": "https://localhost:8080/"
        },
        "outputId": "cf278d1a-6669-4547-b096-bb138ac0fbe5"
      },
      "source": [
        "data = [['Rama',100],['Seetha',200],['Rani',300]]\n",
        "df=pd.DataFrame(data)\n",
        "df1 = pd.DataFrame(data,columns=['Names','ranks'])\n",
        "df2 = pd.DataFrame(data,columns=['Names','Age'],index=['slno1','slno2','slno3'])\n",
        "print(df)\n",
        "print(\"===================\")\n",
        "print(df1)\n",
        "print('===================')\n",
        "print(df2)"
      ],
      "execution_count": 96,
      "outputs": [
        {
          "output_type": "stream",
          "name": "stdout",
          "text": [
            "        0    1\n",
            "0    Rama  100\n",
            "1  Seetha  200\n",
            "2    Rani  300\n",
            "===================\n",
            "    Names  ranks\n",
            "0    Rama    100\n",
            "1  Seetha    200\n",
            "2    Rani    300\n",
            "===================\n",
            "        Names  Age\n",
            "slno1    Rama  100\n",
            "slno2  Seetha  200\n",
            "slno3    Rani  300\n"
          ]
        }
      ]
    },
    {
      "cell_type": "code",
      "metadata": {
        "id": "C5ZQtzatOHhD",
        "colab": {
          "base_uri": "https://localhost:8080/"
        },
        "outputId": "2f3c0662-1a1d-4610-dad3-c1e347b009fa"
      },
      "source": [
        "data = {'Names':['Rama', 'seetha', 'Raja', 'Rani'],'Age':[30,28,35,30]}\n",
        "df = pd.DataFrame(data)\n",
        "print(df)"
      ],
      "execution_count": 97,
      "outputs": [
        {
          "output_type": "stream",
          "name": "stdout",
          "text": [
            "    Names  Age\n",
            "0    Rama   30\n",
            "1  seetha   28\n",
            "2    Raja   35\n",
            "3    Rani   30\n"
          ]
        }
      ]
    },
    {
      "cell_type": "code",
      "metadata": {
        "id": "PARnKdgRO0HS",
        "colab": {
          "base_uri": "https://localhost:8080/"
        },
        "outputId": "c34b4d60-6399-40be-e105-77da82fb840e"
      },
      "source": [
        "df=pd.read_csv(\"Salary_Data.csv\")\n",
        "print(df.tail())"
      ],
      "execution_count": 98,
      "outputs": [
        {
          "output_type": "stream",
          "name": "stdout",
          "text": [
            "    YearsExperience    Salary\n",
            "25              9.0  105582.0\n",
            "26              9.5  116969.0\n",
            "27              9.6  112635.0\n",
            "28             10.3  122391.0\n",
            "29             10.5  121872.0\n"
          ]
        }
      ]
    },
    {
      "cell_type": "code",
      "metadata": {
        "id": "btgDweR4O0P3",
        "colab": {
          "base_uri": "https://localhost:8080/"
        },
        "outputId": "15c62bc9-089c-4415-e6e2-1a4a83d5a08e"
      },
      "source": [
        "df.columns"
      ],
      "execution_count": 99,
      "outputs": [
        {
          "output_type": "execute_result",
          "data": {
            "text/plain": [
              "Index(['YearsExperience', 'Salary'], dtype='object')"
            ]
          },
          "metadata": {},
          "execution_count": 99
        }
      ]
    },
    {
      "cell_type": "code",
      "metadata": {
        "id": "efmTgUWyQ_-q",
        "colab": {
          "base_uri": "https://localhost:8080/"
        },
        "outputId": "5c393b45-5fa0-48b0-c4db-60e47bc97af6"
      },
      "source": [
        "df.shape"
      ],
      "execution_count": 100,
      "outputs": [
        {
          "output_type": "execute_result",
          "data": {
            "text/plain": [
              "(30, 2)"
            ]
          },
          "metadata": {},
          "execution_count": 100
        }
      ]
    },
    {
      "cell_type": "code",
      "metadata": {
        "id": "YaRsHimeRACO",
        "colab": {
          "base_uri": "https://localhost:8080/"
        },
        "outputId": "d7f0cb76-7d6d-41c9-f514-7d2e776bd0a5"
      },
      "source": [
        "df.size"
      ],
      "execution_count": 101,
      "outputs": [
        {
          "output_type": "execute_result",
          "data": {
            "text/plain": [
              "60"
            ]
          },
          "metadata": {},
          "execution_count": 101
        }
      ]
    },
    {
      "cell_type": "code",
      "metadata": {
        "id": "XfeTPIh0RAGK",
        "colab": {
          "base_uri": "https://localhost:8080/"
        },
        "outputId": "c0ad0e98-9bdb-4c6d-cc97-cd3449406474"
      },
      "source": [
        "print(df['Salary']==39343)"
      ],
      "execution_count": 102,
      "outputs": [
        {
          "output_type": "stream",
          "name": "stdout",
          "text": [
            "0      True\n",
            "1     False\n",
            "2     False\n",
            "3     False\n",
            "4     False\n",
            "5     False\n",
            "6     False\n",
            "7     False\n",
            "8     False\n",
            "9     False\n",
            "10    False\n",
            "11    False\n",
            "12    False\n",
            "13    False\n",
            "14    False\n",
            "15    False\n",
            "16    False\n",
            "17    False\n",
            "18    False\n",
            "19    False\n",
            "20    False\n",
            "21    False\n",
            "22    False\n",
            "23    False\n",
            "24    False\n",
            "25    False\n",
            "26    False\n",
            "27    False\n",
            "28    False\n",
            "29    False\n",
            "Name: Salary, dtype: bool\n"
          ]
        }
      ]
    },
    {
      "cell_type": "code",
      "metadata": {
        "id": "ICLasO3QRAKg",
        "colab": {
          "base_uri": "https://localhost:8080/",
          "height": 351
        },
        "outputId": "178f09ee-08a3-484a-aad9-7e4be40b154e"
      },
      "source": [
        "import matplotlib.pyplot as plt\n",
        "from scipy import stats\n",
        "import numpy as np\n",
        "x = [5,7,8,7,2,17,2,9,4,11,12,9,6]  #age of the car\n",
        "y = [99,86,87,88,111,86,103,87,94,78,77,85,86]#speed of the car\n",
        "#It is important to know how the relationship between the values of the x-axis and the values of the y-axis is,\n",
        "#if there are no relationship the linear regression can not be used to predict anything.\n",
        "#This relationship - the coefficient of correlation - is called r.\n",
        "#The r value ranges from 0 to 1, where 0 means no relationship, and 1 means 100% related.\n",
        "\n",
        "slope, intercept, r, p, std_err = stats.linregress(x, y)\n",
        "\n",
        "\n",
        "def myfunc(x):\n",
        "    return slope * x + intercept  #y=mx+c\n",
        "\n",
        "mymodel = list(map(myfunc, x))\n",
        "print(mymodel)\n",
        "\n",
        "\n",
        "plt.scatter(x, y)\n",
        "plt.plot(x, mymodel)\n",
        "\n",
        "plt.xlabel('age')\n",
        "plt.ylabel('speed')\n",
        "plt.show()\n",
        "print(\"=========================\")\n",
        "speed = myfunc(14.5)\n",
        "print(speed)"
      ],
      "execution_count": 103,
      "outputs": [
        {
          "output_type": "stream",
          "name": "stdout",
          "text": [
            "[94.3495217071376, 90.84694628403238, 89.09565857247976, 90.84694628403238, 99.60338484179543, 73.33406916850626, 99.60338484179543, 87.34437086092716, 96.10080941869022, 83.84179543782193, 82.09050772626932, 87.34437086092716, 92.59823399558499]\n"
          ]
        },
        {
          "output_type": "display_data",
          "data": {
            "text/plain": [
              "<Figure size 432x288 with 1 Axes>"
            ],
            "image/png": "[encoded data removed]"
          },
          "metadata": {
            "needs_background": "light"
          }
        },
        {
          "output_type": "stream",
          "name": "stdout",
          "text": [
            "=========================\n",
            "77.71228844738779\n"
          ]
        }
      ]
    },
    {
      "cell_type": "code",
      "metadata": {
        "id": "zmTpFmNARAO2",
        "colab": {
          "base_uri": "https://localhost:8080/",
          "height": 387
        },
        "outputId": "4b83f08d-8d49-4f0d-d34e-7e8748b29eb8"
      },
      "source": [
        "import numpy\n",
        "from sklearn.metrics import r2_score\n",
        "\n",
        "x = [1,2,3,5,6,7,8,9,10,12,13,14,15,16,18,19,21,22]\n",
        "y = [100,90,80,60,60,55,60,65,70,70,75,76,78,79,90,99,99,100]\n",
        "\n",
        "\n",
        "mymodel = numpy.poly1d(numpy.polyfit(x, y, 3))\n",
        "print(mymodel)\n",
        "print(mymodel(x))\n",
        "\n",
        "myline = numpy.linspace(1, 22, 100)\n",
        "\n",
        "plt.scatter(x, y)\n",
        "plt.plot(myline, mymodel(myline))\n",
        "plt.show()\n",
        "\n",
        "print(\"Relationship value is\",r2_score(y, mymodel(x)))\n",
        "speed = mymodel(27)\n",
        "print(\"speed of 27 years old car is\",speed)"
      ],
      "execution_count": 104,
      "outputs": [
        {
          "output_type": "stream",
          "name": "stdout",
          "text": [
            "          3         2\n",
            "-0.03032 x + 1.343 x - 15.54 x + 113.8\n",
            "[99.54274393 87.82218964 78.42444862 65.86970529 62.34885243 60.42311173\n",
            " 59.91055791 60.6292657  62.39730983 68.35370596 72.17820742 76.32434409\n",
            " 80.61019072 84.85382201 92.4867375  95.51217113 99.07136381 99.24127229]\n"
          ]
        },
        {
          "output_type": "display_data",
          "data": {
            "text/plain": [
              "<Figure size 432x288 with 1 Axes>"
            ],
            "image/png": "[encoded data removed]"
          },
          "metadata": {
            "needs_background": "light"
          }
        },
        {
          "output_type": "stream",
          "name": "stdout",
          "text": [
            "Relationship value is 0.9432150416451025\n",
            "speed of 27 years old car is 76.71692509264216\n"
          ]
        }
      ]
    },
    {
      "cell_type": "code",
      "metadata": {
        "colab": {
          "base_uri": "https://localhost:8080/"
        },
        "id": "SXNcLzLoXCDx",
        "outputId": "af6bb434-c627-432d-dff2-1e2bd5e7eaa5"
      },
      "source": [
        "myline"
      ],
      "execution_count": 105,
      "outputs": [
        {
          "output_type": "execute_result",
          "data": {
            "text/plain": [
              "array([ 1.        ,  1.21212121,  1.42424242,  1.63636364,  1.84848485,\n",
              "        2.06060606,  2.27272727,  2.48484848,  2.6969697 ,  2.90909091,\n",
              "        3.12121212,  3.33333333,  3.54545455,  3.75757576,  3.96969697,\n",
              "        4.18181818,  4.39393939,  4.60606061,  4.81818182,  5.03030303,\n",
              "        5.24242424,  5.45454545,  5.66666667,  5.87878788,  6.09090909,\n",
              "        6.3030303 ,  6.51515152,  6.72727273,  6.93939394,  7.15151515,\n",
              "        7.36363636,  7.57575758,  7.78787879,  8.        ,  8.21212121,\n",
              "        8.42424242,  8.63636364,  8.84848485,  9.06060606,  9.27272727,\n",
              "        9.48484848,  9.6969697 ,  9.90909091, 10.12121212, 10.33333333,\n",
              "       10.54545455, 10.75757576, 10.96969697, 11.18181818, 11.39393939,\n",
              "       11.60606061, 11.81818182, 12.03030303, 12.24242424, 12.45454545,\n",
              "       12.66666667, 12.87878788, 13.09090909, 13.3030303 , 13.51515152,\n",
              "       13.72727273, 13.93939394, 14.15151515, 14.36363636, 14.57575758,\n",
              "       14.78787879, 15.        , 15.21212121, 15.42424242, 15.63636364,\n",
              "       15.84848485, 16.06060606, 16.27272727, 16.48484848, 16.6969697 ,\n",
              "       16.90909091, 17.12121212, 17.33333333, 17.54545455, 17.75757576,\n",
              "       17.96969697, 18.18181818, 18.39393939, 18.60606061, 18.81818182,\n",
              "       19.03030303, 19.24242424, 19.45454545, 19.66666667, 19.87878788,\n",
              "       20.09090909, 20.3030303 , 20.51515152, 20.72727273, 20.93939394,\n",
              "       21.15151515, 21.36363636, 21.57575758, 21.78787879, 22.        ])"
            ]
          },
          "metadata": {},
          "execution_count": 105
        }
      ]
    },
    {
      "cell_type": "code",
      "metadata": {
        "colab": {
          "base_uri": "https://localhost:8080/",
          "height": 1000
        },
        "id": "RPYYGOd7f49h",
        "outputId": "242b60f2-1402-425d-d204-8483cac2f4a4"
      },
      "source": [
        "import numpy as np\n",
        "import matplotlib.pyplot as plt\n",
        "import pandas as pd\n",
        "\n",
        "\n",
        "# ## Importing the dataset\n",
        "\n",
        "dataset = pd.read_csv('Salary_Data.csv')\n",
        "#print(dataset)\n",
        "X = dataset.iloc[:, :-1].values\n",
        "print(X)\n",
        "y = dataset.iloc[:, -1].values\n",
        "print(y)\n",
        "\n",
        "\n",
        "\n",
        "# ## Splitting the dataset into the Training set and Test set\n",
        "\n",
        "\n",
        "\n",
        "from sklearn.model_selection import train_test_split\n",
        "X_train, X_test, y_train, y_test = train_test_split(X, y, test_size = 1/3, random_state = 0)\n",
        "\n",
        "\n",
        "# ## Training the Simple Linear Regression model on the Training set\n",
        "\n",
        "\n",
        "\n",
        "from sklearn.linear_model import LinearRegression\n",
        "regressor = LinearRegression()\n",
        "regressor.fit(X_train, y_train)\n",
        "\n",
        "\n",
        "# ## Predicting the Test set results\n",
        "\n",
        "\n",
        "\n",
        "y_pred = regressor.predict(X_test)\n",
        "print('=============')\n",
        "print(y_pred)\n",
        "\n",
        "\n",
        "# ## Visualising the Training set results\n",
        "\n",
        "\n",
        "plt.scatter(X_train, y_train, color = 'red')\n",
        "plt.plot(X_train, regressor.predict(X_train), color = 'blue')\n",
        "plt.title('Salary vs Experience (Training set)')\n",
        "plt.xlabel('Years of Experience')\n",
        "plt.ylabel('Salary')\n",
        "plt.show()\n",
        "\n",
        "\n",
        "# ## Visualising the Test set results\n",
        "\n",
        "plt.scatter(X_test, y_test, color = 'red')\n",
        "plt.plot(X_train, regressor.predict(X_train), color = 'blue')\n",
        "plt.title('Salary vs Experience (Test set)')\n",
        "plt.xlabel('Years of Experience')\n",
        "plt.ylabel('Salary')\n",
        "plt.show()\n",
        "print('=====================')\n",
        "#predict new value\n",
        "new_value= regressor.predict(np.array([20.5]).reshape(1,-1))\n",
        "print('salary for 20.5 of years experience is')\n",
        "print(new_value)\n",
        "\n"
      ],
      "execution_count": 106,
      "outputs": [
        {
          "output_type": "stream",
          "name": "stdout",
          "text": [
            "[[ 1.1]\n",
            " [ 1.3]\n",
            " [ 1.5]\n",
            " [ 2. ]\n",
            " [ 2.2]\n",
            " [ 2.9]\n",
            " [ 3. ]\n",
            " [ 3.2]\n",
            " [ 3.2]\n",
            " [ 3.7]\n",
            " [ 3.9]\n",
            " [ 4. ]\n",
            " [ 4. ]\n",
            " [ 4.1]\n",
            " [ 4.5]\n",
            " [ 4.9]\n",
            " [ 5.1]\n",
            " [ 5.3]\n",
            " [ 5.9]\n",
            " [ 6. ]\n",
            " [ 6.8]\n",
            " [ 7.1]\n",
            " [ 7.9]\n",
            " [ 8.2]\n",
            " [ 8.7]\n",
            " [ 9. ]\n",
            " [ 9.5]\n",
            " [ 9.6]\n",
            " [10.3]\n",
            " [10.5]]\n",
            "[ 39343.  46205.  37731.  43525.  39891.  56642.  60150.  54445.  64445.\n",
            "  57189.  63218.  55794.  56957.  57081.  61111.  67938.  66029.  83088.\n",
            "  81363.  93940.  91738.  98273. 101302. 113812. 109431. 105582. 116969.\n",
            " 112635. 122391. 121872.]\n",
            "=============\n",
            "[ 40835.10590871 123079.39940819  65134.55626083  63265.36777221\n",
            " 115602.64545369 108125.8914992  116537.23969801  64199.96201652\n",
            "  76349.68719258 100649.1375447 ]\n"
          ]
        },
        {
          "output_type": "display_data",
          "data": {
            "text/plain": [
              "<Figure size 432x288 with 1 Axes>"
            ],
            "image/png": "[encoded data removed]"
          },
          "metadata": {
            "needs_background": "light"
          }
        },
        {
          "output_type": "display_data",
          "data": {
            "text/plain": [
              "<Figure size 432x288 with 1 Axes>"
            ],
            "image/png": "[encoded data removed]"
          },
          "metadata": {
            "needs_background": "light"
          }
        },
        {
          "output_type": "stream",
          "name": "stdout",
          "text": [
            "=====================\n",
            "salary for 20.5 of years experience is\n",
            "[218408.01232804]\n"
          ]
        }
      ]
    },
    {
      "cell_type": "code",
      "metadata": {
        "id": "lBYkgQZ9f5A1",
        "colab": {
          "base_uri": "https://localhost:8080/"
        },
        "outputId": "3e434486-d48d-4814-c135-9159af48531c"
      },
      "source": [
        "import pandas as pd\n",
        "import numpy as np\n",
        "from sklearn import metrics \n",
        "from sklearn.linear_model import LogisticRegression\n",
        "from sklearn.model_selection import train_test_split\n",
        "from sklearn.metrics import classification_report, confusion_matrix\n",
        "df = pd.read_csv('Student-Pass-Fail-Data.csv')\n",
        "#print(df)\n",
        "print(df.head())\n",
        "x = df.drop('Pass_Or_Fail',axis = 1)\n",
        "print(x)\n",
        "y = df.Pass_Or_Fail\n",
        "print(y)\n",
        "x_train, x_test, y_train, y_test = train_test_split(x, y, random_state=4)\n",
        "logistic_regression = LogisticRegression()\n",
        "logistic_regression.fit(x_train,y_train)\n",
        "y_pred = logistic_regression.predict(x_test)\n",
        "accuracy = metrics.accuracy_score(y_test, y_pred)\n",
        "\n",
        "accuracy_percentage = 100 * accuracy\n",
        "print(accuracy_percentage)\n",
        "# predicting whether a student will fail or pass\n",
        "First_Friend = logistic_regression.predict((np.array([7, 26]).reshape(1, -1)))\n",
        "#print(np.array([9, 38]).reshape(1, -1))\n",
        "print(First_Friend) # Failed\n",
        "# predicting whether a student will fail or pass\n",
        "second_Friend = logistic_regression.predict((np.array([6, 40]).reshape(1, -1)))\n",
        "print(second_Friend) # Failed\n",
        "\n"
      ],
      "execution_count": 107,
      "outputs": [
        {
          "output_type": "stream",
          "name": "stdout",
          "text": [
            "   Self_Study_Daily  Tution_Monthly  Pass_Or_Fail\n",
            "0                 7              27             1\n",
            "1                 2              43             0\n",
            "2                 7              26             1\n",
            "3                 8              29             1\n",
            "4                 3              42             0\n",
            "     Self_Study_Daily  Tution_Monthly\n",
            "0                   7              27\n",
            "1                   2              43\n",
            "2                   7              26\n",
            "3                   8              29\n",
            "4                   3              42\n",
            "..                ...             ...\n",
            "995                 6              22\n",
            "996                 9              30\n",
            "997                 3              39\n",
            "998                 7              25\n",
            "999                 5              37\n",
            "\n",
            "[1000 rows x 2 columns]\n",
            "0      1\n",
            "1      0\n",
            "2      1\n",
            "3      1\n",
            "4      0\n",
            "      ..\n",
            "995    1\n",
            "996    1\n",
            "997    0\n",
            "998    1\n",
            "999    0\n",
            "Name: Pass_Or_Fail, Length: 1000, dtype: int64\n",
            "96.8\n",
            "[1]\n",
            "[0]\n"
          ]
        },
        {
          "output_type": "stream",
          "name": "stderr",
          "text": [
            "/usr/local/lib/python3.7/dist-packages/sklearn/base.py:451: UserWarning: X does not have valid feature names, but LogisticRegression was fitted with feature names\n",
            "  \"X does not have valid feature names, but\"\n",
            "/usr/local/lib/python3.7/dist-packages/sklearn/base.py:451: UserWarning: X does not have valid feature names, but LogisticRegression was fitted with feature names\n",
            "  \"X does not have valid feature names, but\"\n"
          ]
        }
      ]
    },
    {
      "cell_type": "code",
      "metadata": {
        "id": "ny7-VyESf5GB",
        "colab": {
          "base_uri": "https://localhost:8080/"
        },
        "outputId": "5c4b0d7b-bc37-4b55-d467-f53e37b8e1db"
      },
      "source": [
        "import pandas\n",
        "from sklearn import tree\n",
        "import pydotplus\n",
        "from sklearn.tree import DecisionTreeClassifier\n",
        "import matplotlib.pyplot as plt\n",
        "import matplotlib.image as pltimg\n",
        "\n",
        "df = pandas.read_csv(\"shows.csv\")\n",
        "\n",
        "print(df)"
      ],
      "execution_count": 108,
      "outputs": [
        {
          "output_type": "stream",
          "name": "stdout",
          "text": [
            "    Age  Experience  Rank Nationality   Go\n",
            "0    36          10     9          UK   NO\n",
            "1    42          12     4         USA   NO\n",
            "2    23           4     6           N   NO\n",
            "3    52           4     4         USA   NO\n",
            "4    43          21     8         USA  YES\n",
            "5    44          14     5          UK   NO\n",
            "6    66           3     7           N  YES\n",
            "7    35          14     9          UK  YES\n",
            "8    52          13     7           N  YES\n",
            "9    35           5     9           N  YES\n",
            "10   24           3     5         USA   NO\n",
            "11   18           3     7          UK  YES\n",
            "12   45           9     9          UK  YES\n"
          ]
        }
      ]
    },
    {
      "cell_type": "code",
      "metadata": {
        "id": "HMCxb9hGf5JQ",
        "colab": {
          "base_uri": "https://localhost:8080/"
        },
        "outputId": "8e08754d-73af-4b54-d3b4-6e15701292cd"
      },
      "source": [
        "d = {'UK': 0, 'USA': 1, 'N': 2}\n",
        "df['Nationality'] = df['Nationality'].map(d)\n",
        "d = {'YES': 1, 'NO': 0}\n",
        "df['Go'] = df['Go'].map(d)\n",
        "\n",
        "print(df)"
      ],
      "execution_count": 109,
      "outputs": [
        {
          "output_type": "stream",
          "name": "stdout",
          "text": [
            "    Age  Experience  Rank  Nationality  Go\n",
            "0    36          10     9            0   0\n",
            "1    42          12     4            1   0\n",
            "2    23           4     6            2   0\n",
            "3    52           4     4            1   0\n",
            "4    43          21     8            1   1\n",
            "5    44          14     5            0   0\n",
            "6    66           3     7            2   1\n",
            "7    35          14     9            0   1\n",
            "8    52          13     7            2   1\n",
            "9    35           5     9            2   1\n",
            "10   24           3     5            1   0\n",
            "11   18           3     7            0   1\n",
            "12   45           9     9            0   1\n"
          ]
        }
      ]
    },
    {
      "cell_type": "code",
      "metadata": {
        "id": "yuA9dZqpf5L2",
        "colab": {
          "base_uri": "https://localhost:8080/"
        },
        "outputId": "d9d0241d-c253-4b1f-b55e-eeffe6d4e64b"
      },
      "source": [
        "features = ['Age', 'Experience', 'Rank', 'Nationality']\n",
        "\n",
        "X = df[features]\n",
        "y = df['Go']\n",
        "\n",
        "print(X)\n",
        "print(y)"
      ],
      "execution_count": 110,
      "outputs": [
        {
          "output_type": "stream",
          "name": "stdout",
          "text": [
            "    Age  Experience  Rank  Nationality\n",
            "0    36          10     9            0\n",
            "1    42          12     4            1\n",
            "2    23           4     6            2\n",
            "3    52           4     4            1\n",
            "4    43          21     8            1\n",
            "5    44          14     5            0\n",
            "6    66           3     7            2\n",
            "7    35          14     9            0\n",
            "8    52          13     7            2\n",
            "9    35           5     9            2\n",
            "10   24           3     5            1\n",
            "11   18           3     7            0\n",
            "12   45           9     9            0\n",
            "0     0\n",
            "1     0\n",
            "2     0\n",
            "3     0\n",
            "4     1\n",
            "5     0\n",
            "6     1\n",
            "7     1\n",
            "8     1\n",
            "9     1\n",
            "10    0\n",
            "11    1\n",
            "12    1\n",
            "Name: Go, dtype: int64\n"
          ]
        }
      ]
    },
    {
      "cell_type": "code",
      "metadata": {
        "id": "DnPi5IWBf5O9",
        "colab": {
          "base_uri": "https://localhost:8080/"
        },
        "outputId": "5d2b2ef1-f2cc-4501-de17-04f9a680927c"
      },
      "source": [
        "dtree = DecisionTreeClassifier()\n",
        "dtree = dtree.fit(X, y)\n",
        "data = tree.export_graphviz(dtree, out_file=None, feature_names=features)\n",
        "graph = pydotplus.graph_from_dot_data(data)\n",
        "graph.write_png('mydecisiontree.png')"
      ],
      "execution_count": 111,
      "outputs": [
        {
          "output_type": "execute_result",
          "data": {
            "text/plain": [
              "True"
            ]
          },
          "metadata": {},
          "execution_count": 111
        }
      ]
    },
    {
      "cell_type": "code",
      "metadata": {
        "id": "gFsnJPyOf5Ro",
        "colab": {
          "base_uri": "https://localhost:8080/",
          "height": 269
        },
        "outputId": "3c514c2e-ed29-47d4-811f-274484940201"
      },
      "source": [
        "img=pltimg.imread('mydecisiontree.png')\n",
        "imgplot = plt.imshow(img)\n",
        "plt.show()"
      ],
      "execution_count": 112,
      "outputs": [
        {
          "output_type": "display_data",
          "data": {
            "text/plain": [
              "<Figure size 432x288 with 1 Axes>"
            ],
            "image/png": "[encoded data removed]"
          },
          "metadata": {
            "needs_background": "light"
          }
        }
      ]
    },
    {
      "cell_type": "code",
      "metadata": {
        "id": "MsqFtXEmf5Un",
        "colab": {
          "base_uri": "https://localhost:8080/"
        },
        "outputId": "8d5dead8-ddaf-475b-8b47-54f22290a061"
      },
      "source": [
        "print(dtree.predict([[40, 10, 7, 1]]))"
      ],
      "execution_count": 113,
      "outputs": [
        {
          "output_type": "stream",
          "name": "stdout",
          "text": [
            "[1]\n"
          ]
        },
        {
          "output_type": "stream",
          "name": "stderr",
          "text": [
            "/usr/local/lib/python3.7/dist-packages/sklearn/base.py:451: UserWarning: X does not have valid feature names, but DecisionTreeClassifier was fitted with feature names\n",
            "  \"X does not have valid feature names, but\"\n"
          ]
        }
      ]
    },
    {
      "cell_type": "code",
      "metadata": {
        "id": "EgBo7R3FUjwa",
        "colab": {
          "base_uri": "https://localhost:8080/"
        },
        "outputId": "170c9f5d-a072-4ad5-bce9-87c123e11bea"
      },
      "source": [
        "import numpy as np\n",
        "import matplotlib.pyplot as plt\n",
        "import pandas as pd\n",
        "\n",
        "# Importing the dataset\n",
        "dataset = pd.read_csv('Social_Network_Ads.csv')\n",
        "print(dataset.head)\n",
        "X = dataset.iloc[:, [2, 3]].values\n",
        "y = dataset.iloc[:, -1].values\n",
        "\n",
        "# Splitting the dataset into the Training set and Test set\n",
        "from sklearn.model_selection import train_test_split\n",
        "X_train, X_test, y_train, y_test = train_test_split(X, y, test_size = 0.20, random_state = 0)\n",
        "print(y_train)\n",
        "# Feature Scaling\n",
        "from sklearn.preprocessing import StandardScaler\n",
        "sc = StandardScaler()\n",
        "X_train = sc.fit_transform(X_train)\n",
        "X_test = sc.transform(X_test)\n",
        "\n",
        "# Training the Naive Bayes model on the Training set\n",
        "from sklearn.naive_bayes import GaussianNB\n",
        "classifier = GaussianNB()\n",
        "classifier.fit(X_train, y_train)\n",
        "\n",
        "# Predicting the Test set results\n",
        "y_pred = classifier.predict(X_test)\n",
        "\n",
        "# Making the Confusion Matrix\n",
        "from sklearn.metrics import confusion_matrix, accuracy_score\n",
        "ac = accuracy_score(y_test,y_pred)\n",
        "cm = confusion_matrix(y_test, y_pred)\n",
        "print(ac)\n",
        "print(cm)"
      ],
      "execution_count": 115,
      "outputs": [
        {
          "output_type": "stream",
          "name": "stdout",
          "text": [
            "<bound method NDFrame.head of       User ID  Gender  Age  EstimatedSalary  Purchased\n",
            "0    15624510    Male   19            19000          0\n",
            "1    15810944    Male   35            20000          0\n",
            "2    15668575  Female   26            43000          0\n",
            "3    15603246  Female   27            57000          0\n",
            "4    15804002    Male   19            76000          0\n",
            "..        ...     ...  ...              ...        ...\n",
            "395  15691863  Female   46            41000          1\n",
            "396  15706071    Male   51            23000          1\n",
            "397  15654296  Female   50            20000          1\n",
            "398  15755018    Male   36            33000          0\n",
            "399  15594041  Female   49            36000          1\n",
            "\n",
            "[400 rows x 5 columns]>\n",
            "[1 0 0 0 1 1 0 1 1 0 0 1 0 0 0 1 0 1 1 1 0 1 0 1 1 1 0 0 0 0 0 0 1 1 1 0 1\n",
            " 0 0 1 0 1 0 1 0 0 1 1 1 1 0 1 0 1 0 0 1 0 0 1 0 0 0 0 0 1 1 1 1 0 0 0 1 0\n",
            " 1 0 1 0 0 1 0 0 0 1 0 0 0 1 1 0 0 1 0 1 1 1 0 0 1 1 0 0 1 1 0 1 0 0 1 1 0\n",
            " 1 1 1 0 0 0 0 0 1 0 0 1 1 1 1 1 0 1 1 0 1 0 0 0 0 0 0 0 1 1 0 0 1 0 0 1 0\n",
            " 0 0 1 0 1 1 0 1 0 0 0 0 1 0 0 0 1 1 0 0 0 0 1 0 1 0 0 0 1 0 0 0 0 1 1 1 0\n",
            " 0 0 0 0 0 1 1 1 1 1 0 1 0 0 0 0 0 1 0 0 0 0 0 0 1 1 0 1 0 1 0 0 1 0 0 0 1\n",
            " 0 0 0 0 0 1 0 0 0 0 0 1 0 1 1 0 0 0 0 0 0 1 1 0 0 0 0 1 0 0 0 0 1 0 1 0 1\n",
            " 0 0 0 1 0 0 0 1 0 1 0 0 0 0 0 1 1 0 0 0 0 0 1 0 1 1 0 0 0 0 0 1 0 1 0 0 1\n",
            " 0 0 1 0 1 0 0 0 0 0 0 1 1 1 1 0 0 0 0 1 0 0 0 0]\n",
            "0.9125\n",
            "[[55  3]\n",
            " [ 4 18]]\n"
          ]
        }
      ]
    },
    {
      "cell_type": "code",
      "metadata": {
        "id": "PUSLyo7NUjz1",
        "colab": {
          "base_uri": "https://localhost:8080/",
          "height": 336
        },
        "outputId": "583c8523-aafb-475f-f023-ba5151a168db"
      },
      "source": [
        "from matplotlib.colors import ListedColormap \n",
        "X_set, y_set = X_train, y_train \n",
        "X1, X2 = np.meshgrid(np.arange(start = X_set[:, 0].min() - 1, stop = X_set[:, 0].max() + 1, step = 0.01), np.arange(start = X_set[:, 1].min() - 1, stop = X_set[:, 1].max() + 1, step = 0.01))\n",
        "plt.contourf(X1, X2, classifier.predict(np.array([X1.ravel(), X2.ravel()]).T).reshape(X1.shape), alpha = 0.75, cmap = ListedColormap(('red', 'green'))) \n",
        "plt.xlim(X1.min(), X1.max()) \n",
        "plt.ylim(X2.min(), X2.max()) \n",
        "\n",
        "for i, j in enumerate(np.unique(y_set)): \n",
        "    plt.scatter(X_set[y_set == j, 0], X_set[y_set == j, 1], c = ListedColormap(('red', 'green'))(i), label = j) \n",
        "\n",
        "plt.title('Naive Bayes (Training set)') \n",
        "plt.xlabel('') \n",
        "plt.ylabel('') \n",
        "plt.legend() \n",
        "plt.show()"
      ],
      "execution_count": 116,
      "outputs": [
        {
          "output_type": "stream",
          "name": "stderr",
          "text": [
            "*c* argument looks like a single numeric RGB or RGBA sequence, which should be avoided as value-mapping will have precedence in case its length matches with *x* & *y*.  Please use the *color* keyword-argument or provide a 2-D array with a single row if you intend to specify the same RGB or RGBA value for all points.\n",
            "*c* argument looks like a single numeric RGB or RGBA sequence, which should be avoided as value-mapping will have precedence in case its length matches with *x* & *y*.  Please use the *color* keyword-argument or provide a 2-D array with a single row if you intend to specify the same RGB or RGBA value for all points.\n"
          ]
        },
        {
          "output_type": "display_data",
          "data": {
            "text/plain": [
              "<Figure size 432x288 with 1 Axes>"
            ],
            "image/png": "[encoded data removed]"
          },
          "metadata": {
            "needs_background": "light"
          }
        }
      ]
    },
    {
      "cell_type": "code",
      "metadata": {
        "colab": {
          "base_uri": "https://localhost:8080/",
          "height": 336
        },
        "id": "UyZrc9aCLpE1",
        "outputId": "bad26125-352c-42d8-99ae-4e0b602783fd"
      },
      "source": [
        "from matplotlib.colors import ListedColormap  \n",
        "x_set, y_set = X_test, y_test  \n",
        "x1, x2 = np.meshgrid(np.arange(start = x_set[:, 0].min() - 1, stop = x_set[:, 0].max() + 1, step  =0.01),  \n",
        "np.arange(start = x_set[:, 1].min() - 1, stop = x_set[:, 1].max() + 1, step = 0.01))  \n",
        "plt.contourf(x1, x2, classifier.predict(np.array([x1.ravel(), x2.ravel()]).T).reshape(x1.shape),  \n",
        "alpha = 0.75, cmap = ListedColormap(('red','green' )))  \n",
        "plt.xlim(x1.min(), x1.max())  \n",
        "plt.ylim(x2.min(), x2.max())  \n",
        "for i, j in enumerate(np.unique(y_set)):  \n",
        "    plt.scatter(x_set[y_set == j, 0], x_set[y_set == j, 1],  \n",
        "        c = ListedColormap(('red', 'green'))(i), label = j)  \n",
        "plt.title('navie bays(Test set)')  \n",
        "plt.xlabel('')  \n",
        "plt.ylabel('')  \n",
        "plt.legend()  \n",
        "plt.show()  "
      ],
      "execution_count": 117,
      "outputs": [
        {
          "output_type": "stream",
          "name": "stderr",
          "text": [
            "*c* argument looks like a single numeric RGB or RGBA sequence, which should be avoided as value-mapping will have precedence in case its length matches with *x* & *y*.  Please use the *color* keyword-argument or provide a 2-D array with a single row if you intend to specify the same RGB or RGBA value for all points.\n",
            "*c* argument looks like a single numeric RGB or RGBA sequence, which should be avoided as value-mapping will have precedence in case its length matches with *x* & *y*.  Please use the *color* keyword-argument or provide a 2-D array with a single row if you intend to specify the same RGB or RGBA value for all points.\n"
          ]
        },
        {
          "output_type": "display_data",
          "data": {
            "text/plain": [
              "<Figure size 432x288 with 1 Axes>"
            ],
            "image/png": "[encoded data removed]"
          },
          "metadata": {
            "needs_background": "light"
          }
        }
      ]
    },
    {
      "cell_type": "code",
      "metadata": {
        "id": "wjs3a5cKUkOq"
      },
      "source": [
        ""
      ],
      "execution_count": 117,
      "outputs": []
    },
    {
      "cell_type": "code",
      "metadata": {
        "id": "JsIxqE8jUkR6"
      },
      "source": [
        ""
      ],
      "execution_count": 117,
      "outputs": []
    },
    {
      "cell_type": "code",
      "metadata": {
        "id": "MqQULYbAUkVP"
      },
      "source": [
        ""
      ],
      "execution_count": 117,
      "outputs": []
    },
    {
      "cell_type": "code",
      "metadata": {
        "id": "JFvHX_DCUkYq"
      },
      "source": [
        ""
      ],
      "execution_count": 117,
      "outputs": []
    },
    {
      "cell_type": "code",
      "metadata": {
        "id": "x9asP2jZUkcY"
      },
      "source": [
        ""
      ],
      "execution_count": 117,
      "outputs": []
    },
    {
      "cell_type": "code",
      "metadata": {
        "id": "q7MDvMhuUkiC"
      },
      "source": [
        ""
      ],
      "execution_count": 117,
      "outputs": []
    }
  ]
}